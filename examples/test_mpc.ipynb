{
 "cells": [
  {
   "cell_type": "code",
   "execution_count": 1,
   "metadata": {},
   "outputs": [],
   "source": [
    "import numpy as np\n",
    "import pandas as pd\n",
    "import matplotlib.pyplot as plt\n",
    "from IES.Utils.HIES_config.HIES_options import HIES_Options\n",
    "from IES.agent.optimal_solver import OPT_Solver\n",
    "from IES.agent.mpc import MPC_Solver"
   ]
  },
  {
   "cell_type": "code",
   "execution_count": 2,
   "metadata": {},
   "outputs": [],
   "source": [
    "env_options = HIES_Options(program='test')"
   ]
  },
  {
   "cell_type": "code",
   "execution_count": 3,
   "metadata": {},
   "outputs": [],
   "source": [
    "components = ['power_grid', 'pv_power','solar_thermal', 'electrical_demand', 'heating_demand', 'cooling_demand', 'BESS_states', 'HESS_states', 'TESS_states', 'CESS_states', 'hydrogen_purchased']"
   ]
  },
  {
   "cell_type": "code",
   "execution_count": 5,
   "metadata": {},
   "outputs": [],
   "source": [
    "forecast_name = ['electricity_price', 'solar', 'electrical_demand', 'heating_demand', 'cooling_demand', 'temperature_ambient']"
   ]
  },
  {
   "cell_type": "code",
   "execution_count": 11,
   "metadata": {},
   "outputs": [],
   "source": [
    "components = ['power_grid', 'pv_power', 'electrical_demand', 'BESS_states']"
   ]
  },
  {
   "cell_type": "code",
   "execution_count": 12,
   "metadata": {},
   "outputs": [],
   "source": [
    "forecast_name = ['electricity_price', 'solar', 'electrical_demand']"
   ]
  },
  {
   "cell_type": "code",
   "execution_count": 20,
   "metadata": {},
   "outputs": [],
   "source": [
    "start_day = 100\n",
    "end_day = 102\n",
    "horizon = 5"
   ]
  },
  {
   "cell_type": "code",
   "execution_count": 21,
   "metadata": {},
   "outputs": [],
   "source": [
    "mpc_solver = MPC_Solver(components=components, forecast_name=forecast_name)\n",
    "result = mpc_solver.run(start_day, end_day, horizon)"
   ]
  },
  {
   "cell_type": "code",
   "execution_count": 22,
   "metadata": {},
   "outputs": [],
   "source": [
    "# opt_solver = OPT_Solver(penalty_factor=10, components=components)\n",
    "# res_obj, violation_arr, cost_arr, decision_arr = opt_solver.run_OPT_model(start_day, end_day)"
   ]
  }
 ],
 "metadata": {
  "kernelspec": {
   "display_name": "base",
   "language": "python",
   "name": "python3"
  },
  "language_info": {
   "codemirror_mode": {
    "name": "ipython",
    "version": 3
   },
   "file_extension": ".py",
   "mimetype": "text/x-python",
   "name": "python",
   "nbconvert_exporter": "python",
   "pygments_lexer": "ipython3",
   "version": "3.11.7"
  }
 },
 "nbformat": 4,
 "nbformat_minor": 2
}
